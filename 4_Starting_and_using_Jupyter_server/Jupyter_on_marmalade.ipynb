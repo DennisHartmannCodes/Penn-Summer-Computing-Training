{
 "cells": [
  {
   "cell_type": "markdown",
   "id": "cf3b1e84-7dbe-4085-96fc-f9f8c76cda4c",
   "metadata": {},
   "source": [
    "## Starting a Jupyter notebook on marmalade"
   ]
  },
  {
   "cell_type": "markdown",
   "id": "b740b82b-0f41-4b9c-8e49-79e7c6083f28",
   "metadata": {},
   "source": [
    "Don't ask me why or how this works. I sleuthed through a lot of stack exchange and this is what worked on *m* and I stopped sleuthing. \n",
    "\n",
    "First solution is good enough for me. I don't need the best solution. "
   ]
  },
  {
   "cell_type": "markdown",
   "id": "81de32ae-4e8d-465f-a818-289d5da2f804",
   "metadata": {},
   "source": [
    "On *m*, you start by launching an interactive job session. Remember, we don't use the login node for computations! \n",
    "\n",
    "`srun -n 4 -t 120 -p highcore --pty bash`\n",
    "\n",
    "Then, we launch Jupyter in whatever directory you want \n",
    "\n",
    "`jupyter notebook --no-browser`\n",
    "\n",
    "This will not automatically launch a browser window on your machine, but give you an address to copy+paste into your browser. Also, simply doing that won't work. \n",
    "\n",
    "Now, we've launched jupyter on a compute node. We need to connect the local machine to that specific node. We do this with two commands, a slightly different SSH\n",
    "\n",
    "`ssh -L 8888:localhost:8888 user@marmalade.physics.upenn.edu` \n",
    "\n",
    "and on marm we do \n",
    "\n",
    "`ssh -L 8888:localhost:8888 <node we're running the job on>`\n",
    "\n",
    "Now, we can copy+paste the url the first command created into a browser and that should launch a Jupyter server! "
   ]
  },
  {
   "cell_type": "markdown",
   "id": "3316a0fc-63e4-4d64-9ed6-215460516424",
   "metadata": {},
   "source": [
    "These are a bunch of confusing commands and I don't bother remembering them. I just create short aliases for each. To create an alias, do\n",
    "\n",
    "`alias short_name=\"some command that you want to easliy execute\"`\n",
    "\n",
    "in your .bashrc or .bash_profile. Note the lack of space around the \"=\". \n",
    "\n",
    "Make sure to source them after for the commands to work. When you save the .bash file, these changes will be sourced the next time you login. To source them immediately, do \n",
    "\n",
    "`source .bashrc` etc"
   ]
  },
  {
   "cell_type": "code",
   "execution_count": null,
   "id": "064b6fcb-550d-4be7-b97a-b8bee8714282",
   "metadata": {},
   "outputs": [],
   "source": []
  }
 ],
 "metadata": {
  "kernelspec": {
   "display_name": "Python 3",
   "language": "python",
   "name": "python3"
  },
  "language_info": {
   "codemirror_mode": {
    "name": "ipython",
    "version": 3
   },
   "file_extension": ".py",
   "mimetype": "text/x-python",
   "name": "python",
   "nbconvert_exporter": "python",
   "pygments_lexer": "ipython3",
   "version": "3.7.10"
  }
 },
 "nbformat": 4,
 "nbformat_minor": 5
}
