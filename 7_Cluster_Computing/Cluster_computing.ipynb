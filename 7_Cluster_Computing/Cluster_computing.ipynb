{
 "cells": [
  {
   "cell_type": "markdown",
   "id": "a61350e8-30e9-45a6-a82d-7368456ea3f7",
   "metadata": {},
   "source": [
    "# Cluster Computing "
   ]
  },
  {
   "cell_type": "markdown",
   "id": "96e6f443-eaf7-4722-8da3-0460d4ede506",
   "metadata": {},
   "source": [
    "Physics and astronomy often invove large datasets or a large number of computations or both, for which simply running code on your personal machines will not suffice. \n",
    "You could need more firepower (eg. more cores), more memory or just different processors (eg. GPUs). This is where computer clusters come in. You take your code, stick it on a cluster and submit jobs to be run on the cluster remotely. Here, we'll go over the basics of how to do that. "
   ]
  },
  {
   "cell_type": "markdown",
   "id": "3e296405-7f4e-4a63-a4ed-564c73b624a4",
   "metadata": {},
   "source": [
    "## Connecting to a cluster"
   ]
  },
  {
   "cell_type": "markdown",
   "id": "1530327a-0b7d-4a35-a91b-72de4345684c",
   "metadata": {},
   "source": [
    "In [Section 2](https://github.com/jeffiuliano/Penn-Summer-Computing-Training/blob/main/2_ssh_and_scp/SSH_SCP_Workbook.ipynb), we learnt to securely interact with a non-local machine. To connect to most clusters, we will use SSH as described there. For example, for those of you using *marmalade*, you will do "
   ]
  },
  {
   "cell_type": "raw",
   "id": "084b16b4-9df1-45ca-ac16-7806ce6238b5",
   "metadata": {},
   "source": [
    "ssh username@marmalade.physics.upenn.edu"
   ]
  },
  {
   "cell_type": "markdown",
   "id": "6e2ab7db-f3a8-4bcc-aaa0-950e389771a2",
   "metadata": {},
   "source": [
    "Note that to connect to *marmalade*, you must be on a Penn secured network (eg. AirPennNet wi-fi) or VPN into Penn. For using the Penn VPN, you need a PennKey (UPenn username and account) and associated account setup. For details of how to VPN into Penn, go [here](https://www.isc.upenn.edu/how-to/university-vpn-getting-started-guide). "
   ]
  },
  {
   "cell_type": "code",
   "execution_count": null,
   "id": "118db1d2-5341-4142-85ae-61bda7a3cfdf",
   "metadata": {},
   "outputs": [],
   "source": []
  }
 ],
 "metadata": {
  "kernelspec": {
   "display_name": "Python 3",
   "language": "python",
   "name": "python3"
  },
  "language_info": {
   "codemirror_mode": {
    "name": "ipython",
    "version": 3
   },
   "file_extension": ".py",
   "mimetype": "text/x-python",
   "name": "python",
   "nbconvert_exporter": "python",
   "pygments_lexer": "ipython3",
   "version": "3.7.10"
  }
 },
 "nbformat": 4,
 "nbformat_minor": 5
}
